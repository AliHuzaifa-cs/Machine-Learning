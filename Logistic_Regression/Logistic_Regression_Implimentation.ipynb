{
 "cells": [
  {
   "cell_type": "code",
   "execution_count": null,
   "id": "a430ea31",
   "metadata": {},
   "outputs": [],
   "source": [
    "# from scipy.special import expit  # sigmoid function\n",
    "\n",
    "# # sample input\n",
    "# x = np.linspace(-10, 10, 100)\n",
    "# y = expit(x)  # sigmoid\n",
    "\n",
    "# plt.plot(x, y, color=\"blue\")\n",
    "# plt.title(\"Sigmoid Function\")\n",
    "# plt.xlabel(\"z (linear combination)\")\n",
    "# plt.ylabel(\"Probability\")\n",
    "# plt.grid(True)\n",
    "# plt.show()"
   ]
  }
 ],
 "metadata": {
  "language_info": {
   "name": "python"
  }
 },
 "nbformat": 4,
 "nbformat_minor": 5
}
