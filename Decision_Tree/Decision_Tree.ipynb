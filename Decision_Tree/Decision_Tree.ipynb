{
 "cells": [
  {
   "cell_type": "markdown",
   "id": "8c4702ce",
   "metadata": {},
   "source": [
    "# Understanding of Entropy, Gini and Information Gain"
   ]
  },
  {
   "cell_type": "code",
   "execution_count": 2,
   "id": "bc0a21e7",
   "metadata": {},
   "outputs": [
    {
     "name": "stdout",
     "output_type": "stream",
     "text": [
      "Parent Entropy: 0.971\n",
      "Entropy(Subset 1): 0.971\n",
      "Entropy(Subset 2): 0.971\n",
      "Weighted Child Entropy: 0.971\n",
      "Information Gain: 0.0\n"
     ]
    }
   ],
   "source": [
    "import math\n",
    "\n",
    "# Parent dataset (total samples)\n",
    "total = 10   # maan lo 10 samples hain\n",
    "# Parent entropy calculation\n",
    "# Suppose classes = {A=4, B=6}\n",
    "p_A = 4/10\n",
    "p_B = 6/10\n",
    "entropy_parent = -(p_A*math.log2(p_A) + p_B*math.log2(p_B))\n",
    "print(\"Parent Entropy:\", round(entropy_parent, 4))\n",
    "\n",
    "# Subset 1: 2 A, 3 B\n",
    "n1_A, n1_B = 2, 3\n",
    "p1_A = n1_A / (n1_A + n1_B)\n",
    "p1_B = n1_B / (n1_A + n1_B)\n",
    "entropy_1 = -(p1_A*math.log2(p1_A) + p1_B*math.log2(p1_B))\n",
    "print(\"Entropy(Subset 1):\", round(entropy_1, 4))\n",
    "\n",
    "# Subset 2: 2 A, 3 B\n",
    "n2_A, n2_B = 2, 3\n",
    "p2_A = n2_A / (n2_A + n2_B)\n",
    "p2_B = n2_B / (n2_A + n2_B)\n",
    "entropy_2 = -(p2_A*math.log2(p2_A) + p2_B*math.log2(p2_B))\n",
    "print(\"Entropy(Subset 2):\", round(entropy_2, 4))\n",
    "\n",
    "# Weighted average entropy of subsets\n",
    "weighted_entropy = ((n1_A+n1_B)/total) * entropy_1 + ((n2_A+n2_B)/total) * entropy_2\n",
    "print(\"Weighted Child Entropy:\", round(weighted_entropy, 4))\n",
    "\n",
    "# Information Gain\n",
    "info_gain = entropy_parent - weighted_entropy\n",
    "print(\"Information Gain:\", round(info_gain, 4))\n"
   ]
  },
  {
   "cell_type": "code",
   "execution_count": null,
   "id": "0e353e0a",
   "metadata": {},
   "outputs": [
    {
     "data": {
      "text/plain": [
       "'decision_tree_entropy.png'"
      ]
     },
     "execution_count": 3,
     "metadata": {},
     "output_type": "execute_result"
    }
   ],
   "source": []
  },
  {
   "cell_type": "code",
   "execution_count": null,
   "id": "2bed5a9e",
   "metadata": {},
   "outputs": [],
   "source": []
  }
 ],
 "metadata": {
  "kernelspec": {
   "display_name": "python_ml",
   "language": "python",
   "name": "python3"
  },
  "language_info": {
   "codemirror_mode": {
    "name": "ipython",
    "version": 3
   },
   "file_extension": ".py",
   "mimetype": "text/x-python",
   "name": "python",
   "nbconvert_exporter": "python",
   "pygments_lexer": "ipython3",
   "version": "3.10.18"
  }
 },
 "nbformat": 4,
 "nbformat_minor": 5
}
